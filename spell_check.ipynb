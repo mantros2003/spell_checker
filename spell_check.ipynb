{
  "nbformat": 4,
  "nbformat_minor": 0,
  "metadata": {
    "colab": {
      "provenance": [],
      "authorship_tag": "ABX9TyMdtq8x2cRxfSeiqta43T8y",
      "include_colab_link": true
    },
    "kernelspec": {
      "name": "python3",
      "display_name": "Python 3"
    },
    "language_info": {
      "name": "python"
    }
  },
  "cells": [
    {
      "cell_type": "markdown",
      "metadata": {
        "id": "view-in-github",
        "colab_type": "text"
      },
      "source": [
        "<a href=\"https://colab.research.google.com/github/swapnil6969/spell_checker/blob/main/spell_check.ipynb\" target=\"_parent\"><img src=\"https://colab.research.google.com/assets/colab-badge.svg\" alt=\"Open In Colab\"/></a>"
      ]
    },
    {
      "cell_type": "code",
      "execution_count": 67,
      "metadata": {
        "id": "DEwxlXArG4FC"
      },
      "outputs": [],
      "source": [
        "import re\n",
        "import math\n",
        "import string\n",
        "from collections import Counter\n",
        "import pandas as pd"
      ]
    },
    {
      "cell_type": "code",
      "source": [
        "def tokenise(ip):\n",
        "    return re.findall(r\"[\\w]+(?:[\\.'-][\\w]+)*\", ip.lower())\n",
        "\n",
        "def remove_punctuation(ip):\n",
        "    return ''.join([c for c in ip if c not in string.punctuation])\n",
        "\n",
        "print(tokenise(\"This is sentence with abbreviations like U.S.A. and hyphenated-words. How will the regex han'le the text?\"))"
      ],
      "metadata": {
        "colab": {
          "base_uri": "https://localhost:8080/"
        },
        "id": "3rOW0APJLcu7",
        "outputId": "820ea540-79c1-42f5-dc6f-7193015a023f"
      },
      "execution_count": 65,
      "outputs": [
        {
          "output_type": "stream",
          "name": "stdout",
          "text": [
            "['this', 'is', 'sentence', 'with', 'abbreviations', 'like', 'u.s.a', 'and', 'hyphenated-words', 'how', 'will', 'the', 'regex', \"han'le\", 'the', 'text']\n"
          ]
        }
      ]
    },
    {
      "cell_type": "code",
      "source": [
        "file = open('https://github.com/swapnil6969/spell_checker/blob/main/data/big.txt', 'r')"
      ],
      "metadata": {
        "colab": {
          "base_uri": "https://localhost:8080/",
          "height": 144
        },
        "id": "wiX8ZfhlXXcU",
        "outputId": "653ffd88-98a7-4b06-c473-8718a53b44ae"
      },
      "execution_count": 68,
      "outputs": [
        {
          "output_type": "error",
          "ename": "FileNotFoundError",
          "evalue": "[Errno 2] No such file or directory: 'https://github.com/swapnil6969/spell_checker/blob/main/data/big.txt'",
          "traceback": [
            "\u001b[0;31m---------------------------------------------------------------------------\u001b[0m",
            "\u001b[0;31mFileNotFoundError\u001b[0m                         Traceback (most recent call last)",
            "\u001b[0;32m<ipython-input-68-d99c9402e43c>\u001b[0m in \u001b[0;36m<cell line: 1>\u001b[0;34m()\u001b[0m\n\u001b[0;32m----> 1\u001b[0;31m \u001b[0mfile\u001b[0m \u001b[0;34m=\u001b[0m \u001b[0mopen\u001b[0m\u001b[0;34m(\u001b[0m\u001b[0;34m'https://github.com/swapnil6969/spell_checker/blob/main/data/big.txt'\u001b[0m\u001b[0;34m,\u001b[0m \u001b[0;34m'r'\u001b[0m\u001b[0;34m)\u001b[0m\u001b[0;34m\u001b[0m\u001b[0;34m\u001b[0m\u001b[0m\n\u001b[0m",
            "\u001b[0;31mFileNotFoundError\u001b[0m: [Errno 2] No such file or directory: 'https://github.com/swapnil6969/spell_checker/blob/main/data/big.txt'"
          ]
        }
      ]
    }
  ]
}